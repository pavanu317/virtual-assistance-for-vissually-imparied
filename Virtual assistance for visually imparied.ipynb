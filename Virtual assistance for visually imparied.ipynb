{
 "cells": [
  {
   "cell_type": "code",
   "execution_count": null,
   "id": "14cf1667",
   "metadata": {},
   "outputs": [],
   "source": [
    "AndroidManifest.xml\n",
    "<?xml version=\"1.0\" encoding=\"utf-8\"?>\n",
    "<manifest xmlns:android=\"http://schemas.android.com/apk/res/android\"\n",
    "    package=\"com.example.vision\">\n",
    "\n",
    "    <uses-permission android:name=\"android.permission.RECEIVE_SMS\" />\n",
    "    <uses-permission android:name=\"android.permission.SEND_SMS\" />\n",
    "    <uses-permission android:name=\"android.permission.CALL_PHONE\" />\n",
    "    <uses-permission android:name=\"android.permission.CAMERA\" />\n",
    "\n",
    "    <application\n",
    "        android:allowBackup=\"true\"\n",
    "        android:icon=\"@mipmap/ic_launcher\"\n",
    "        android:label=\"@string/app_name\"\n",
    "        android:roundIcon=\"@mipmap/ic_launcher_round\"\n",
    "        android:supportsRtl=\"true\"\n",
    "        android:theme=\"@style/AppTheme\">\n",
    "        <activity android:name=\".MainActivity\">\n",
    "            <intent-filter>\n",
    "                <action android:name=\"android.intent.action.MAIN\" />\n",
    "\n",
    "                <category android:name=\"android.intent.category.LAUNCHER\" />\n",
    "            </intent-filter>\n",
    "        </activity>\n",
    "\n",
    "        <activity\n",
    "            android:name=\".MessageActivity\"\n",
    "            android:label=\"Message Inbox\">\n",
    "\n",
    "        </activity>\n",
    "\n",
    "        <activity\n",
    "            android:name=\".TimeDateActivity\"\n",
    "            android:label=\"Battery Status\">\n",
    "\n",
    "        </activity>\n",
    "\n",
    "        <activity\n",
    "            android:name=\".PhoneActivity\"\n",
    "            android:label=\"Phone Manager\">\n",
    "\n",
    "        </activity>\n",
    "\n",
    "        <activity\n",
    "            android:name=\".CameraActivity\"\n",
    "            android:label=\"Currency Recognition\">\n",
    "\n",
    "        </activity>\n",
    "\n",
    "\n",
    "    </application>\n",
    "\n",
    "</manifest>"
   ]
  }
 ],
 "metadata": {
  "kernelspec": {
   "display_name": "Python 3 (ipykernel)",
   "language": "python",
   "name": "python3"
  },
  "language_info": {
   "codemirror_mode": {
    "name": "ipython",
    "version": 3
   },
   "file_extension": ".py",
   "mimetype": "text/x-python",
   "name": "python",
   "nbconvert_exporter": "python",
   "pygments_lexer": "ipython3",
   "version": "3.10.8"
  }
 },
 "nbformat": 4,
 "nbformat_minor": 5
}
